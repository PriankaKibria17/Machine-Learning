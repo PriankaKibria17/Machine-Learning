{
  "nbformat": 4,
  "nbformat_minor": 0,
  "metadata": {
    "colab": {
      "name": "Project 2_Part 2.ipynb",
      "provenance": [],
      "collapsed_sections": [],
      "authorship_tag": "ABX9TyMu7l667kQW18FGbUJK2JJ3",
      "include_colab_link": true
    },
    "kernelspec": {
      "name": "python3",
      "display_name": "Python 3"
    },
    "language_info": {
      "name": "python"
    }
  },
  "cells": [
    {
      "cell_type": "markdown",
      "metadata": {
        "id": "view-in-github",
        "colab_type": "text"
      },
      "source": [
        "<a href=\"https://colab.research.google.com/github/PriankaKibria17/Machine-Learning/blob/main/Project_2_Part_2.ipynb\" target=\"_parent\"><img src=\"https://colab.research.google.com/assets/colab-badge.svg\" alt=\"Open In Colab\"/></a>"
      ]
    },
    {
      "cell_type": "markdown",
      "source": [
        "#Project II, Part II: Spotify\n",
        "\n",
        "Prianka Kibria\n",
        "\n",
        "4.14.22\n",
        "\n",
        "\n",
        "This data contains songs that have been played most frequently and have reached the Top 200 Weekly Global charts of spotify.\n",
        "\n"
      ],
      "metadata": {
        "id": "XVCOEfKwMwKi"
      }
    },
    {
      "cell_type": "code",
      "source": [
        "from google.colab import drive\n",
        "drive.mount('/content/drive')"
      ],
      "metadata": {
        "colab": {
          "base_uri": "https://localhost:8080/"
        },
        "id": "Y242musmM_i-",
        "outputId": "9f1da970-c371-43d7-d169-e26cafe3ac40"
      },
      "execution_count": 53,
      "outputs": [
        {
          "output_type": "stream",
          "name": "stdout",
          "text": [
            "Drive already mounted at /content/drive; to attempt to forcibly remount, call drive.mount(\"/content/drive\", force_remount=True).\n"
          ]
        }
      ]
    },
    {
      "cell_type": "code",
      "source": [
        "import pandas as pd\n",
        "import matplotlib.pyplot as plt\n",
        "import seaborn as sns\n",
        "from sklearn.model_selection import train_test_split\n",
        "from sklearn.preprocessing import OneHotEncoder, StandardScaler\n",
        "from sklearn.compose import make_column_transformer, make_column_selector"
      ],
      "metadata": {
        "id": "XxUKre98N8N3"
      },
      "execution_count": 54,
      "outputs": []
    },
    {
      "cell_type": "code",
      "source": [
        "spotify = pd.read_csv('/content/drive/MyDrive/data/spotify_dataset.csv')\n",
        "spotify.head()"
      ],
      "metadata": {
        "colab": {
          "base_uri": "https://localhost:8080/",
          "height": 560
        },
        "id": "-WBk1cSfOTfE",
        "outputId": "8f03b8ca-c59b-47c3-faf7-8f5a63a02b31"
      },
      "execution_count": 55,
      "outputs": [
        {
          "output_type": "execute_result",
          "data": {
            "text/plain": [
              "   Index  Highest Charting Position  Number of Times Charted  \\\n",
              "0      1                          1                        8   \n",
              "1      2                          2                        3   \n",
              "2      3                          1                       11   \n",
              "3      4                          3                        5   \n",
              "4      5                          5                        1   \n",
              "\n",
              "  Week of Highest Charting                          Song Name     Streams  \\\n",
              "0   2021-07-23--2021-07-30                            Beggin'  48,633,449   \n",
              "1   2021-07-23--2021-07-30          STAY (with Justin Bieber)  47,248,719   \n",
              "2   2021-06-25--2021-07-02                           good 4 u  40,162,559   \n",
              "3   2021-07-02--2021-07-09                         Bad Habits  37,799,456   \n",
              "4   2021-07-23--2021-07-30  INDUSTRY BABY (feat. Jack Harlow)  33,948,454   \n",
              "\n",
              "           Artist Artist Followers                 Song ID  \\\n",
              "0        Måneskin          3377762  3Wrjm47oTz2sjIgck11l5e   \n",
              "1   The Kid LAROI          2230022  5HCyWlXZPP0y6Gqq8TgA20   \n",
              "2  Olivia Rodrigo          6266514  4ZtFanR9U6ndgddUvNcjcG   \n",
              "3      Ed Sheeran         83293380  6PQ88X9TkUIAUIZJHW2upE   \n",
              "4       Lil Nas X          5473565  27NovPIUIRrOZoCHxABJwK   \n",
              "\n",
              "                                    Genre  ... Danceability Energy Loudness  \\\n",
              "0  ['indie rock italiano', 'italian pop']  ...        0.714    0.8   -4.808   \n",
              "1                  ['australian hip hop']  ...        0.591  0.764   -5.484   \n",
              "2                                 ['pop']  ...        0.563  0.664   -5.044   \n",
              "3                       ['pop', 'uk pop']  ...        0.808  0.897   -3.712   \n",
              "4           ['lgbtq+ hip hop', 'pop rap']  ...        0.736  0.704   -7.409   \n",
              "\n",
              "  Speechiness Acousticness Liveness    Tempo Duration (ms) Valence  Chord  \n",
              "0      0.0504        0.127    0.359  134.002        211560   0.589      B  \n",
              "1      0.0483       0.0383    0.103  169.928        141806   0.478  C#/Db  \n",
              "2       0.154        0.335   0.0849  166.928        178147   0.688      A  \n",
              "3      0.0348       0.0469    0.364  126.026        231041   0.591      B  \n",
              "4      0.0615       0.0203   0.0501  149.995        212000   0.894  D#/Eb  \n",
              "\n",
              "[5 rows x 23 columns]"
            ],
            "text/html": [
              "\n",
              "  <div id=\"df-df81ff32-2b3f-4568-bed7-c99ac65fae62\">\n",
              "    <div class=\"colab-df-container\">\n",
              "      <div>\n",
              "<style scoped>\n",
              "    .dataframe tbody tr th:only-of-type {\n",
              "        vertical-align: middle;\n",
              "    }\n",
              "\n",
              "    .dataframe tbody tr th {\n",
              "        vertical-align: top;\n",
              "    }\n",
              "\n",
              "    .dataframe thead th {\n",
              "        text-align: right;\n",
              "    }\n",
              "</style>\n",
              "<table border=\"1\" class=\"dataframe\">\n",
              "  <thead>\n",
              "    <tr style=\"text-align: right;\">\n",
              "      <th></th>\n",
              "      <th>Index</th>\n",
              "      <th>Highest Charting Position</th>\n",
              "      <th>Number of Times Charted</th>\n",
              "      <th>Week of Highest Charting</th>\n",
              "      <th>Song Name</th>\n",
              "      <th>Streams</th>\n",
              "      <th>Artist</th>\n",
              "      <th>Artist Followers</th>\n",
              "      <th>Song ID</th>\n",
              "      <th>Genre</th>\n",
              "      <th>...</th>\n",
              "      <th>Danceability</th>\n",
              "      <th>Energy</th>\n",
              "      <th>Loudness</th>\n",
              "      <th>Speechiness</th>\n",
              "      <th>Acousticness</th>\n",
              "      <th>Liveness</th>\n",
              "      <th>Tempo</th>\n",
              "      <th>Duration (ms)</th>\n",
              "      <th>Valence</th>\n",
              "      <th>Chord</th>\n",
              "    </tr>\n",
              "  </thead>\n",
              "  <tbody>\n",
              "    <tr>\n",
              "      <th>0</th>\n",
              "      <td>1</td>\n",
              "      <td>1</td>\n",
              "      <td>8</td>\n",
              "      <td>2021-07-23--2021-07-30</td>\n",
              "      <td>Beggin'</td>\n",
              "      <td>48,633,449</td>\n",
              "      <td>Måneskin</td>\n",
              "      <td>3377762</td>\n",
              "      <td>3Wrjm47oTz2sjIgck11l5e</td>\n",
              "      <td>['indie rock italiano', 'italian pop']</td>\n",
              "      <td>...</td>\n",
              "      <td>0.714</td>\n",
              "      <td>0.8</td>\n",
              "      <td>-4.808</td>\n",
              "      <td>0.0504</td>\n",
              "      <td>0.127</td>\n",
              "      <td>0.359</td>\n",
              "      <td>134.002</td>\n",
              "      <td>211560</td>\n",
              "      <td>0.589</td>\n",
              "      <td>B</td>\n",
              "    </tr>\n",
              "    <tr>\n",
              "      <th>1</th>\n",
              "      <td>2</td>\n",
              "      <td>2</td>\n",
              "      <td>3</td>\n",
              "      <td>2021-07-23--2021-07-30</td>\n",
              "      <td>STAY (with Justin Bieber)</td>\n",
              "      <td>47,248,719</td>\n",
              "      <td>The Kid LAROI</td>\n",
              "      <td>2230022</td>\n",
              "      <td>5HCyWlXZPP0y6Gqq8TgA20</td>\n",
              "      <td>['australian hip hop']</td>\n",
              "      <td>...</td>\n",
              "      <td>0.591</td>\n",
              "      <td>0.764</td>\n",
              "      <td>-5.484</td>\n",
              "      <td>0.0483</td>\n",
              "      <td>0.0383</td>\n",
              "      <td>0.103</td>\n",
              "      <td>169.928</td>\n",
              "      <td>141806</td>\n",
              "      <td>0.478</td>\n",
              "      <td>C#/Db</td>\n",
              "    </tr>\n",
              "    <tr>\n",
              "      <th>2</th>\n",
              "      <td>3</td>\n",
              "      <td>1</td>\n",
              "      <td>11</td>\n",
              "      <td>2021-06-25--2021-07-02</td>\n",
              "      <td>good 4 u</td>\n",
              "      <td>40,162,559</td>\n",
              "      <td>Olivia Rodrigo</td>\n",
              "      <td>6266514</td>\n",
              "      <td>4ZtFanR9U6ndgddUvNcjcG</td>\n",
              "      <td>['pop']</td>\n",
              "      <td>...</td>\n",
              "      <td>0.563</td>\n",
              "      <td>0.664</td>\n",
              "      <td>-5.044</td>\n",
              "      <td>0.154</td>\n",
              "      <td>0.335</td>\n",
              "      <td>0.0849</td>\n",
              "      <td>166.928</td>\n",
              "      <td>178147</td>\n",
              "      <td>0.688</td>\n",
              "      <td>A</td>\n",
              "    </tr>\n",
              "    <tr>\n",
              "      <th>3</th>\n",
              "      <td>4</td>\n",
              "      <td>3</td>\n",
              "      <td>5</td>\n",
              "      <td>2021-07-02--2021-07-09</td>\n",
              "      <td>Bad Habits</td>\n",
              "      <td>37,799,456</td>\n",
              "      <td>Ed Sheeran</td>\n",
              "      <td>83293380</td>\n",
              "      <td>6PQ88X9TkUIAUIZJHW2upE</td>\n",
              "      <td>['pop', 'uk pop']</td>\n",
              "      <td>...</td>\n",
              "      <td>0.808</td>\n",
              "      <td>0.897</td>\n",
              "      <td>-3.712</td>\n",
              "      <td>0.0348</td>\n",
              "      <td>0.0469</td>\n",
              "      <td>0.364</td>\n",
              "      <td>126.026</td>\n",
              "      <td>231041</td>\n",
              "      <td>0.591</td>\n",
              "      <td>B</td>\n",
              "    </tr>\n",
              "    <tr>\n",
              "      <th>4</th>\n",
              "      <td>5</td>\n",
              "      <td>5</td>\n",
              "      <td>1</td>\n",
              "      <td>2021-07-23--2021-07-30</td>\n",
              "      <td>INDUSTRY BABY (feat. Jack Harlow)</td>\n",
              "      <td>33,948,454</td>\n",
              "      <td>Lil Nas X</td>\n",
              "      <td>5473565</td>\n",
              "      <td>27NovPIUIRrOZoCHxABJwK</td>\n",
              "      <td>['lgbtq+ hip hop', 'pop rap']</td>\n",
              "      <td>...</td>\n",
              "      <td>0.736</td>\n",
              "      <td>0.704</td>\n",
              "      <td>-7.409</td>\n",
              "      <td>0.0615</td>\n",
              "      <td>0.0203</td>\n",
              "      <td>0.0501</td>\n",
              "      <td>149.995</td>\n",
              "      <td>212000</td>\n",
              "      <td>0.894</td>\n",
              "      <td>D#/Eb</td>\n",
              "    </tr>\n",
              "  </tbody>\n",
              "</table>\n",
              "<p>5 rows × 23 columns</p>\n",
              "</div>\n",
              "      <button class=\"colab-df-convert\" onclick=\"convertToInteractive('df-df81ff32-2b3f-4568-bed7-c99ac65fae62')\"\n",
              "              title=\"Convert this dataframe to an interactive table.\"\n",
              "              style=\"display:none;\">\n",
              "        \n",
              "  <svg xmlns=\"http://www.w3.org/2000/svg\" height=\"24px\"viewBox=\"0 0 24 24\"\n",
              "       width=\"24px\">\n",
              "    <path d=\"M0 0h24v24H0V0z\" fill=\"none\"/>\n",
              "    <path d=\"M18.56 5.44l.94 2.06.94-2.06 2.06-.94-2.06-.94-.94-2.06-.94 2.06-2.06.94zm-11 1L8.5 8.5l.94-2.06 2.06-.94-2.06-.94L8.5 2.5l-.94 2.06-2.06.94zm10 10l.94 2.06.94-2.06 2.06-.94-2.06-.94-.94-2.06-.94 2.06-2.06.94z\"/><path d=\"M17.41 7.96l-1.37-1.37c-.4-.4-.92-.59-1.43-.59-.52 0-1.04.2-1.43.59L10.3 9.45l-7.72 7.72c-.78.78-.78 2.05 0 2.83L4 21.41c.39.39.9.59 1.41.59.51 0 1.02-.2 1.41-.59l7.78-7.78 2.81-2.81c.8-.78.8-2.07 0-2.86zM5.41 20L4 18.59l7.72-7.72 1.47 1.35L5.41 20z\"/>\n",
              "  </svg>\n",
              "      </button>\n",
              "      \n",
              "  <style>\n",
              "    .colab-df-container {\n",
              "      display:flex;\n",
              "      flex-wrap:wrap;\n",
              "      gap: 12px;\n",
              "    }\n",
              "\n",
              "    .colab-df-convert {\n",
              "      background-color: #E8F0FE;\n",
              "      border: none;\n",
              "      border-radius: 50%;\n",
              "      cursor: pointer;\n",
              "      display: none;\n",
              "      fill: #1967D2;\n",
              "      height: 32px;\n",
              "      padding: 0 0 0 0;\n",
              "      width: 32px;\n",
              "    }\n",
              "\n",
              "    .colab-df-convert:hover {\n",
              "      background-color: #E2EBFA;\n",
              "      box-shadow: 0px 1px 2px rgba(60, 64, 67, 0.3), 0px 1px 3px 1px rgba(60, 64, 67, 0.15);\n",
              "      fill: #174EA6;\n",
              "    }\n",
              "\n",
              "    [theme=dark] .colab-df-convert {\n",
              "      background-color: #3B4455;\n",
              "      fill: #D2E3FC;\n",
              "    }\n",
              "\n",
              "    [theme=dark] .colab-df-convert:hover {\n",
              "      background-color: #434B5C;\n",
              "      box-shadow: 0px 1px 3px 1px rgba(0, 0, 0, 0.15);\n",
              "      filter: drop-shadow(0px 1px 2px rgba(0, 0, 0, 0.3));\n",
              "      fill: #FFFFFF;\n",
              "    }\n",
              "  </style>\n",
              "\n",
              "      <script>\n",
              "        const buttonEl =\n",
              "          document.querySelector('#df-df81ff32-2b3f-4568-bed7-c99ac65fae62 button.colab-df-convert');\n",
              "        buttonEl.style.display =\n",
              "          google.colab.kernel.accessAllowed ? 'block' : 'none';\n",
              "\n",
              "        async function convertToInteractive(key) {\n",
              "          const element = document.querySelector('#df-df81ff32-2b3f-4568-bed7-c99ac65fae62');\n",
              "          const dataTable =\n",
              "            await google.colab.kernel.invokeFunction('convertToInteractive',\n",
              "                                                     [key], {});\n",
              "          if (!dataTable) return;\n",
              "\n",
              "          const docLinkHtml = 'Like what you see? Visit the ' +\n",
              "            '<a target=\"_blank\" href=https://colab.research.google.com/notebooks/data_table.ipynb>data table notebook</a>'\n",
              "            + ' to learn more about interactive tables.';\n",
              "          element.innerHTML = '';\n",
              "          dataTable['output_type'] = 'display_data';\n",
              "          await google.colab.output.renderOutput(dataTable, element);\n",
              "          const docLink = document.createElement('div');\n",
              "          docLink.innerHTML = docLinkHtml;\n",
              "          element.appendChild(docLink);\n",
              "        }\n",
              "      </script>\n",
              "    </div>\n",
              "  </div>\n",
              "  "
            ]
          },
          "metadata": {},
          "execution_count": 55
        }
      ]
    },
    {
      "cell_type": "code",
      "source": [
        "# There are 3 integer columns and the rest are objects. The data types of some of the numeric columns will have to be changed.\n",
        "spotify.info()"
      ],
      "metadata": {
        "colab": {
          "base_uri": "https://localhost:8080/"
        },
        "id": "pBBc0wMVPDpZ",
        "outputId": "9f88e671-50b3-403d-aaab-70fe0fe914ae"
      },
      "execution_count": 56,
      "outputs": [
        {
          "output_type": "stream",
          "name": "stdout",
          "text": [
            "<class 'pandas.core.frame.DataFrame'>\n",
            "RangeIndex: 1556 entries, 0 to 1555\n",
            "Data columns (total 23 columns):\n",
            " #   Column                     Non-Null Count  Dtype \n",
            "---  ------                     --------------  ----- \n",
            " 0   Index                      1556 non-null   int64 \n",
            " 1   Highest Charting Position  1556 non-null   int64 \n",
            " 2   Number of Times Charted    1556 non-null   int64 \n",
            " 3   Week of Highest Charting   1556 non-null   object\n",
            " 4   Song Name                  1556 non-null   object\n",
            " 5   Streams                    1556 non-null   object\n",
            " 6   Artist                     1556 non-null   object\n",
            " 7   Artist Followers           1556 non-null   object\n",
            " 8   Song ID                    1556 non-null   object\n",
            " 9   Genre                      1556 non-null   object\n",
            " 10  Release Date               1556 non-null   object\n",
            " 11  Weeks Charted              1556 non-null   object\n",
            " 12  Popularity                 1556 non-null   object\n",
            " 13  Danceability               1556 non-null   object\n",
            " 14  Energy                     1556 non-null   object\n",
            " 15  Loudness                   1556 non-null   object\n",
            " 16  Speechiness                1556 non-null   object\n",
            " 17  Acousticness               1556 non-null   object\n",
            " 18  Liveness                   1556 non-null   object\n",
            " 19  Tempo                      1556 non-null   object\n",
            " 20  Duration (ms)              1556 non-null   object\n",
            " 21  Valence                    1556 non-null   object\n",
            " 22  Chord                      1556 non-null   object\n",
            "dtypes: int64(3), object(20)\n",
            "memory usage: 279.7+ KB\n"
          ]
        }
      ]
    },
    {
      "cell_type": "code",
      "source": [
        "#No duplicates\n",
        "spotify.duplicated().sum()"
      ],
      "metadata": {
        "colab": {
          "base_uri": "https://localhost:8080/"
        },
        "id": "ooMjt427PINb",
        "outputId": "b3ffc0b2-556a-4720-8675-ebc04eb389b9"
      },
      "execution_count": 57,
      "outputs": [
        {
          "output_type": "execute_result",
          "data": {
            "text/plain": [
              "0"
            ]
          },
          "metadata": {},
          "execution_count": 57
        }
      ]
    },
    {
      "cell_type": "code",
      "source": [
        "#Dropping unneccessary columns with either no distributing values or unique values that are not needed\n",
        "spotify.drop(columns = ['Index', 'Song ID', 'Chord', 'Week of Highest Charting', 'Weeks Charted'], inplace = True)"
      ],
      "metadata": {
        "id": "rpE1twedRJgO"
      },
      "execution_count": 58,
      "outputs": []
    },
    {
      "cell_type": "markdown",
      "source": [
        "Changing the data type for: \n",
        "\n",
        "- streams\n",
        "- aritst followers\n",
        "- danceability\n",
        "- energy\n",
        "- loudness\n",
        "- speechiness\n",
        "- acousticness\n",
        "- liveness\n",
        "- tempo\n",
        "- duration\n",
        "- valence\n",
        "\n",
        "Changing the object columns that are numeric."
      ],
      "metadata": {
        "id": "Ywr33_3aU-uK"
      }
    },
    {
      "cell_type": "code",
      "source": [
        "#removing the the commas in streams\n",
        "#Code ref: Stackedoverflow\n",
        "spotify.Streams = spotify.Streams.apply(lambda Streams : Streams.replace(',', ''))"
      ],
      "metadata": {
        "id": "c6WfJP5hU9_U"
      },
      "execution_count": 59,
      "outputs": []
    },
    {
      "cell_type": "code",
      "source": [
        "spotify['Streams'] = spotify['Streams'].astype('int')"
      ],
      "metadata": {
        "id": "-QYD7rLdd1ph"
      },
      "execution_count": 60,
      "outputs": []
    },
    {
      "cell_type": "code",
      "source": [
        "Allobjectcolumns = ['Artist Followers', 'Danceability', 'Energy', 'Loudness', 'Speechiness', 'Acousticness', 'Liveness', 'Tempo', 'Duration (ms)', 'Valence']\n",
        "#code ref for loop: Stackedoverflow + Kaggle\n",
        "for each_col in Allobjectcolumns:\n",
        "  spotify[each_col] = pd.to_numeric(spotify[each_col], errors = 'coerce')"
      ],
      "metadata": {
        "id": "QYyMDHlMkrmg"
      },
      "execution_count": 61,
      "outputs": []
    },
    {
      "cell_type": "code",
      "source": [
        "spotify.info()"
      ],
      "metadata": {
        "colab": {
          "base_uri": "https://localhost:8080/"
        },
        "id": "cQN74al83bzH",
        "outputId": "0b712f9e-cd69-4f03-9004-d451bca9da34"
      },
      "execution_count": 62,
      "outputs": [
        {
          "output_type": "stream",
          "name": "stdout",
          "text": [
            "<class 'pandas.core.frame.DataFrame'>\n",
            "RangeIndex: 1556 entries, 0 to 1555\n",
            "Data columns (total 18 columns):\n",
            " #   Column                     Non-Null Count  Dtype  \n",
            "---  ------                     --------------  -----  \n",
            " 0   Highest Charting Position  1556 non-null   int64  \n",
            " 1   Number of Times Charted    1556 non-null   int64  \n",
            " 2   Song Name                  1556 non-null   object \n",
            " 3   Streams                    1556 non-null   int64  \n",
            " 4   Artist                     1556 non-null   object \n",
            " 5   Artist Followers           1545 non-null   float64\n",
            " 6   Genre                      1556 non-null   object \n",
            " 7   Release Date               1556 non-null   object \n",
            " 8   Popularity                 1556 non-null   object \n",
            " 9   Danceability               1545 non-null   float64\n",
            " 10  Energy                     1545 non-null   float64\n",
            " 11  Loudness                   1545 non-null   float64\n",
            " 12  Speechiness                1545 non-null   float64\n",
            " 13  Acousticness               1545 non-null   float64\n",
            " 14  Liveness                   1545 non-null   float64\n",
            " 15  Tempo                      1545 non-null   float64\n",
            " 16  Duration (ms)              1545 non-null   float64\n",
            " 17  Valence                    1545 non-null   float64\n",
            "dtypes: float64(10), int64(3), object(5)\n",
            "memory usage: 218.9+ KB\n"
          ]
        }
      ]
    },
    {
      "cell_type": "code",
      "source": [
        "#identifying null columns\n",
        "spotify.isnull().sum()"
      ],
      "metadata": {
        "colab": {
          "base_uri": "https://localhost:8080/"
        },
        "id": "8qqG-ufyl4yA",
        "outputId": "7cd02c61-2535-47e7-f57a-90b2b1249477"
      },
      "execution_count": 63,
      "outputs": [
        {
          "output_type": "execute_result",
          "data": {
            "text/plain": [
              "Highest Charting Position     0\n",
              "Number of Times Charted       0\n",
              "Song Name                     0\n",
              "Streams                       0\n",
              "Artist                        0\n",
              "Artist Followers             11\n",
              "Genre                         0\n",
              "Release Date                  0\n",
              "Popularity                    0\n",
              "Danceability                 11\n",
              "Energy                       11\n",
              "Loudness                     11\n",
              "Speechiness                  11\n",
              "Acousticness                 11\n",
              "Liveness                     11\n",
              "Tempo                        11\n",
              "Duration (ms)                11\n",
              "Valence                      11\n",
              "dtype: int64"
            ]
          },
          "metadata": {},
          "execution_count": 63
        }
      ]
    },
    {
      "cell_type": "code",
      "source": [
        "#removing all null values since I the numeric columns are imperative\n",
        "spotify = spotify.dropna()\n",
        "#spotify.isnull().sum()"
      ],
      "metadata": {
        "id": "vNUHSmCuodJN"
      },
      "execution_count": 64,
      "outputs": []
    },
    {
      "cell_type": "markdown",
      "source": [
        "#Exploratory"
      ],
      "metadata": {
        "id": "qePj5Ym2qxQ1"
      }
    },
    {
      "cell_type": "code",
      "source": [
        "sns.heatmap(spotify.corr(), annot = True)"
      ],
      "metadata": {
        "colab": {
          "base_uri": "https://localhost:8080/",
          "height": 405
        },
        "id": "HoYhyz-37F8y",
        "outputId": "7c02a008-c24c-411c-c6ce-35b81c2eeb4e"
      },
      "execution_count": 65,
      "outputs": [
        {
          "output_type": "execute_result",
          "data": {
            "text/plain": [
              "<matplotlib.axes._subplots.AxesSubplot at 0x7fbe0d021610>"
            ]
          },
          "metadata": {},
          "execution_count": 65
        },
        {
          "output_type": "display_data",
          "data": {
            "text/plain": [
              "<Figure size 432x288 with 2 Axes>"
            ],
            "image/png": "[encoded data removed]"
          },
          "metadata": {
            "needs_background": "light"
          }
        }
      ]
    },
    {
      "cell_type": "markdown",
      "source": [
        "Noteworthy correlations:\n",
        "\n",
        "Highest charting and energy has a high positive correlation\n",
        "\n",
        "Number of times charted and energy has a high positive correlation\n",
        "\n",
        "Streams and Danceability has a high positive correlation\n",
        "\n",
        "Artist followers and speechiness has a high positive correlation\n",
        "\n",
        "Danceability and valence has a high positive correlation\n",
        "\n",
        "etc."
      ],
      "metadata": {
        "id": "K3jPInmK4B-t"
      }
    },
    {
      "cell_type": "markdown",
      "source": [
        "# univariate visuals"
      ],
      "metadata": {
        "id": "ZAKi9cCAB5SN"
      }
    },
    {
      "cell_type": "code",
      "source": [
        "spotify.info()"
      ],
      "metadata": {
        "colab": {
          "base_uri": "https://localhost:8080/"
        },
        "id": "lN8cYMzroAE2",
        "outputId": "183e2054-e3af-40c3-9a90-93d786c05884"
      },
      "execution_count": 66,
      "outputs": [
        {
          "output_type": "stream",
          "name": "stdout",
          "text": [
            "<class 'pandas.core.frame.DataFrame'>\n",
            "Int64Index: 1545 entries, 0 to 1555\n",
            "Data columns (total 18 columns):\n",
            " #   Column                     Non-Null Count  Dtype  \n",
            "---  ------                     --------------  -----  \n",
            " 0   Highest Charting Position  1545 non-null   int64  \n",
            " 1   Number of Times Charted    1545 non-null   int64  \n",
            " 2   Song Name                  1545 non-null   object \n",
            " 3   Streams                    1545 non-null   int64  \n",
            " 4   Artist                     1545 non-null   object \n",
            " 5   Artist Followers           1545 non-null   float64\n",
            " 6   Genre                      1545 non-null   object \n",
            " 7   Release Date               1545 non-null   object \n",
            " 8   Popularity                 1545 non-null   object \n",
            " 9   Danceability               1545 non-null   float64\n",
            " 10  Energy                     1545 non-null   float64\n",
            " 11  Loudness                   1545 non-null   float64\n",
            " 12  Speechiness                1545 non-null   float64\n",
            " 13  Acousticness               1545 non-null   float64\n",
            " 14  Liveness                   1545 non-null   float64\n",
            " 15  Tempo                      1545 non-null   float64\n",
            " 16  Duration (ms)              1545 non-null   float64\n",
            " 17  Valence                    1545 non-null   float64\n",
            "dtypes: float64(10), int64(3), object(5)\n",
            "memory usage: 229.3+ KB\n"
          ]
        }
      ]
    },
    {
      "cell_type": "markdown",
      "source": [
        "Columns With Numeric Values:"
      ],
      "metadata": {
        "id": "zKkIzlHzDwY5"
      }
    },
    {
      "cell_type": "code",
      "source": [
        "#We can see a large portion of the data is between 0.5-1.\n",
        "sns.distplot(spotify.Streams, hist=True, kde=True, color='g');\n",
        "plt.show()"
      ],
      "metadata": {
        "colab": {
          "base_uri": "https://localhost:8080/",
          "height": 345
        },
        "id": "PZV1ToSrBqwJ",
        "outputId": "2b2be4c3-3194-4eec-8b80-0cb2634c3b9b"
      },
      "execution_count": 67,
      "outputs": [
        {
          "output_type": "stream",
          "name": "stderr",
          "text": [
            "/usr/local/lib/python3.7/dist-packages/seaborn/distributions.py:2619: FutureWarning: `distplot` is a deprecated function and will be removed in a future version. Please adapt your code to use either `displot` (a figure-level function with similar flexibility) or `histplot` (an axes-level function for histograms).\n",
            "  warnings.warn(msg, FutureWarning)\n"
          ]
        },
        {
          "output_type": "display_data",
          "data": {
            "text/plain": [
              "<Figure size 432x288 with 1 Axes>"
            ],
            "image/png": "[encoded data removed]"
          },
          "metadata": {
            "needs_background": "light"
          }
        }
      ]
    },
    {
      "cell_type": "markdown",
      "source": [
        "The target has some outliers beyond its max of 1."
      ],
      "metadata": {
        "id": "DnvJEv05Fi2Y"
      }
    },
    {
      "cell_type": "code",
      "source": [
        "sns.boxplot(spotify.Streams, color='r')"
      ],
      "metadata": {
        "colab": {
          "base_uri": "https://localhost:8080/",
          "height": 351
        },
        "id": "Ng8v_5agCCr3",
        "outputId": "3dbac455-64ff-4405-d7d5-540ea0d749d8"
      },
      "execution_count": 68,
      "outputs": [
        {
          "output_type": "stream",
          "name": "stderr",
          "text": [
            "/usr/local/lib/python3.7/dist-packages/seaborn/_decorators.py:43: FutureWarning: Pass the following variable as a keyword arg: x. From version 0.12, the only valid positional argument will be `data`, and passing other arguments without an explicit keyword will result in an error or misinterpretation.\n",
            "  FutureWarning\n"
          ]
        },
        {
          "output_type": "execute_result",
          "data": {
            "text/plain": [
              "<matplotlib.axes._subplots.AxesSubplot at 0x7fbe12b7b9d0>"
            ]
          },
          "metadata": {},
          "execution_count": 68
        },
        {
          "output_type": "display_data",
          "data": {
            "text/plain": [
              "<Figure size 432x288 with 1 Axes>"
            ],
            "image/png": "[encoded data removed]"
          },
          "metadata": {
            "needs_background": "light"
          }
        }
      ]
    },
    {
      "cell_type": "markdown",
      "source": [
        "These are top ten streams, most of the data is located between 0-1"
      ],
      "metadata": {
        "id": "xwGwB8NDFxhh"
      }
    },
    {
      "cell_type": "code",
      "source": [
        "#target\n",
        "spotify['Streams'].head(10).plot.bar()"
      ],
      "metadata": {
        "colab": {
          "base_uri": "https://localhost:8080/",
          "height": 290
        },
        "id": "zKZMsASnpwDL",
        "outputId": "bcc335c2-320c-4ced-90f3-7977690bae68"
      },
      "execution_count": 69,
      "outputs": [
        {
          "output_type": "execute_result",
          "data": {
            "text/plain": [
              "<matplotlib.axes._subplots.AxesSubplot at 0x7fbe11819dd0>"
            ]
          },
          "metadata": {},
          "execution_count": 69
        },
        {
          "output_type": "display_data",
          "data": {
            "text/plain": [
              "<Figure size 432x288 with 1 Axes>"
            ],
            "image/png": "[encoded data removed]"
          },
          "metadata": {
            "needs_background": "light"
          }
        }
      ]
    },
    {
      "cell_type": "code",
      "source": [
        "spotify['Highest Charting Position'].head(10).plot.bar()"
      ],
      "metadata": {
        "colab": {
          "base_uri": "https://localhost:8080/",
          "height": 279
        },
        "id": "V_gkFAbwA0MZ",
        "outputId": "77f72d2f-2c09-4221-d71e-4580c6a7e47b"
      },
      "execution_count": 70,
      "outputs": [
        {
          "output_type": "execute_result",
          "data": {
            "text/plain": [
              "<matplotlib.axes._subplots.AxesSubplot at 0x7fbe11710650>"
            ]
          },
          "metadata": {},
          "execution_count": 70
        },
        {
          "output_type": "display_data",
          "data": {
            "text/plain": [
              "<Figure size 432x288 with 1 Axes>"
            ],
            "image/png": "[encoded data removed]"
          },
          "metadata": {
            "needs_background": "light"
          }
        }
      ]
    },
    {
      "cell_type": "code",
      "source": [
        "spotify['Number of Times Charted'].head(10).plot.bar()"
      ],
      "metadata": {
        "colab": {
          "base_uri": "https://localhost:8080/",
          "height": 279
        },
        "id": "PVf4fKeToyw7",
        "outputId": "aca476ef-8c27-4dd9-9c0b-7ba81b65b69d"
      },
      "execution_count": 71,
      "outputs": [
        {
          "output_type": "execute_result",
          "data": {
            "text/plain": [
              "<matplotlib.axes._subplots.AxesSubplot at 0x7fbe11c96090>"
            ]
          },
          "metadata": {},
          "execution_count": 71
        },
        {
          "output_type": "display_data",
          "data": {
            "text/plain": [
              "<Figure size 432x288 with 1 Axes>"
            ],
            "image/png": "[encoded data removed]"
          },
          "metadata": {
            "needs_background": "light"
          }
        }
      ]
    },
    {
      "cell_type": "code",
      "source": [
        "spotify['Artist Followers'].head(10).plot.bar()"
      ],
      "metadata": {
        "colab": {
          "base_uri": "https://localhost:8080/",
          "height": 290
        },
        "id": "IC221I48A_jX",
        "outputId": "609b94e8-0a61-4844-ece2-9107ae01b3b5"
      },
      "execution_count": 72,
      "outputs": [
        {
          "output_type": "execute_result",
          "data": {
            "text/plain": [
              "<matplotlib.axes._subplots.AxesSubplot at 0x7fbe1156d0d0>"
            ]
          },
          "metadata": {},
          "execution_count": 72
        },
        {
          "output_type": "display_data",
          "data": {
            "text/plain": [
              "<Figure size 432x288 with 1 Axes>"
            ],
            "image/png": "[encoded data removed]"
          },
          "metadata": {
            "needs_background": "light"
          }
        }
      ]
    },
    {
      "cell_type": "code",
      "source": [
        "spotify['Danceability'].head(10).plot.bar()"
      ],
      "metadata": {
        "colab": {
          "base_uri": "https://localhost:8080/",
          "height": 279
        },
        "id": "2CakAEh_BbM5",
        "outputId": "3da933a0-992f-471e-d038-c523923a313b"
      },
      "execution_count": 73,
      "outputs": [
        {
          "output_type": "execute_result",
          "data": {
            "text/plain": [
              "<matplotlib.axes._subplots.AxesSubplot at 0x7fbe11b58710>"
            ]
          },
          "metadata": {},
          "execution_count": 73
        },
        {
          "output_type": "display_data",
          "data": {
            "text/plain": [
              "<Figure size 432x288 with 1 Axes>"
            ],
            "image/png": "[encoded data removed]"
          },
          "metadata": {
            "needs_background": "light"
          }
        }
      ]
    },
    {
      "cell_type": "code",
      "source": [
        "spotify['Energy'].head(10).plot.bar()"
      ],
      "metadata": {
        "colab": {
          "base_uri": "https://localhost:8080/",
          "height": 279
        },
        "id": "g7BebHlUC-9G",
        "outputId": "1b06c047-3e09-48f0-9707-85a3bcfbe9a1"
      },
      "execution_count": 74,
      "outputs": [
        {
          "output_type": "execute_result",
          "data": {
            "text/plain": [
              "<matplotlib.axes._subplots.AxesSubplot at 0x7fbe11a42ed0>"
            ]
          },
          "metadata": {},
          "execution_count": 74
        },
        {
          "output_type": "display_data",
          "data": {
            "text/plain": [
              "<Figure size 432x288 with 1 Axes>"
            ],
            "image/png": "[encoded data removed]"
          },
          "metadata": {
            "needs_background": "light"
          }
        }
      ]
    },
    {
      "cell_type": "code",
      "source": [
        "plt.figure(figsize = (5,5))\n",
        "spotify['Loudness'].plot(kind='density')"
      ],
      "metadata": {
        "colab": {
          "base_uri": "https://localhost:8080/",
          "height": 337
        },
        "id": "WxK4q8DMCdA6",
        "outputId": "738e2701-d5ae-4298-b919-b51081e4e578"
      },
      "execution_count": 75,
      "outputs": [
        {
          "output_type": "execute_result",
          "data": {
            "text/plain": [
              "<matplotlib.axes._subplots.AxesSubplot at 0x7fbe10e32950>"
            ]
          },
          "metadata": {},
          "execution_count": 75
        },
        {
          "output_type": "display_data",
          "data": {
            "text/plain": [
              "<Figure size 360x360 with 1 Axes>"
            ],
            "image/png": "[encoded data removed]"
          },
          "metadata": {
            "needs_background": "light"
          }
        }
      ]
    },
    {
      "cell_type": "code",
      "source": [
        "spotify['Speechiness'].head(10).plot.bar()"
      ],
      "metadata": {
        "colab": {
          "base_uri": "https://localhost:8080/",
          "height": 280
        },
        "id": "jYu0otMVDKuz",
        "outputId": "0c33687f-ba04-47be-f513-ce594014cd09"
      },
      "execution_count": 76,
      "outputs": [
        {
          "output_type": "execute_result",
          "data": {
            "text/plain": [
              "<matplotlib.axes._subplots.AxesSubplot at 0x7fbe10ee2550>"
            ]
          },
          "metadata": {},
          "execution_count": 76
        },
        {
          "output_type": "display_data",
          "data": {
            "text/plain": [
              "<Figure size 432x288 with 1 Axes>"
            ],
            "image/png": "[encoded data removed]"
          },
          "metadata": {
            "needs_background": "light"
          }
        }
      ]
    },
    {
      "cell_type": "code",
      "source": [
        "spotify['Acousticness'].head(10).plot.bar()"
      ],
      "metadata": {
        "colab": {
          "base_uri": "https://localhost:8080/",
          "height": 282
        },
        "id": "R869XiaFDOtr",
        "outputId": "b328f295-7788-408e-9be5-cb3f48da182c"
      },
      "execution_count": 77,
      "outputs": [
        {
          "output_type": "execute_result",
          "data": {
            "text/plain": [
              "<matplotlib.axes._subplots.AxesSubplot at 0x7fbe10f65190>"
            ]
          },
          "metadata": {},
          "execution_count": 77
        },
        {
          "output_type": "display_data",
          "data": {
            "text/plain": [
              "<Figure size 432x288 with 1 Axes>"
            ],
            "image/png": "[encoded data removed]"
          },
          "metadata": {
            "needs_background": "light"
          }
        }
      ]
    },
    {
      "cell_type": "code",
      "source": [
        "spotify['Liveness'].head(10).plot.bar()"
      ],
      "metadata": {
        "colab": {
          "base_uri": "https://localhost:8080/",
          "height": 281
        },
        "id": "SD8QgFv1DXFP",
        "outputId": "f838a38b-2c5f-4aad-d7ea-9a1e5fe1bce0"
      },
      "execution_count": 78,
      "outputs": [
        {
          "output_type": "execute_result",
          "data": {
            "text/plain": [
              "<matplotlib.axes._subplots.AxesSubplot at 0x7fbe10e84550>"
            ]
          },
          "metadata": {},
          "execution_count": 78
        },
        {
          "output_type": "display_data",
          "data": {
            "text/plain": [
              "<Figure size 432x288 with 1 Axes>"
            ],
            "image/png": "[encoded data removed]"
          },
          "metadata": {
            "needs_background": "light"
          }
        }
      ]
    },
    {
      "cell_type": "code",
      "source": [
        "spotify['Tempo'].head(10).plot.bar()"
      ],
      "metadata": {
        "colab": {
          "base_uri": "https://localhost:8080/",
          "height": 279
        },
        "id": "ynnO4xC0Dag5",
        "outputId": "0378446d-8f74-4f61-bd4d-a9f3ac642ef6"
      },
      "execution_count": 79,
      "outputs": [
        {
          "output_type": "execute_result",
          "data": {
            "text/plain": [
              "<matplotlib.axes._subplots.AxesSubplot at 0x7fbe11433fd0>"
            ]
          },
          "metadata": {},
          "execution_count": 79
        },
        {
          "output_type": "display_data",
          "data": {
            "text/plain": [
              "<Figure size 432x288 with 1 Axes>"
            ],
            "image/png": "[encoded data removed]"
          },
          "metadata": {
            "needs_background": "light"
          }
        }
      ]
    },
    {
      "cell_type": "code",
      "source": [
        "spotify['Duration (ms)'].head(10).plot.bar()"
      ],
      "metadata": {
        "colab": {
          "base_uri": "https://localhost:8080/",
          "height": 279
        },
        "id": "ro8bsSS3DlP4",
        "outputId": "aa02fdee-ca6c-45b2-836c-78e7f1607625"
      },
      "execution_count": 80,
      "outputs": [
        {
          "output_type": "execute_result",
          "data": {
            "text/plain": [
              "<matplotlib.axes._subplots.AxesSubplot at 0x7fbe1110fa10>"
            ]
          },
          "metadata": {},
          "execution_count": 80
        },
        {
          "output_type": "display_data",
          "data": {
            "text/plain": [
              "<Figure size 432x288 with 1 Axes>"
            ],
            "image/png": "[encoded data removed]"
          },
          "metadata": {
            "needs_background": "light"
          }
        }
      ]
    },
    {
      "cell_type": "code",
      "source": [
        "spotify['Valence'].head(10).plot.bar()"
      ],
      "metadata": {
        "colab": {
          "base_uri": "https://localhost:8080/",
          "height": 281
        },
        "id": "VoqCnWESDsBj",
        "outputId": "c9b89b67-ab21-4e5e-c528-330dbef8b782"
      },
      "execution_count": 81,
      "outputs": [
        {
          "output_type": "execute_result",
          "data": {
            "text/plain": [
              "<matplotlib.axes._subplots.AxesSubplot at 0x7fbe10fc4550>"
            ]
          },
          "metadata": {},
          "execution_count": 81
        },
        {
          "output_type": "display_data",
          "data": {
            "text/plain": [
              "<Figure size 432x288 with 1 Axes>"
            ],
            "image/png": "[encoded data removed]"
          },
          "metadata": {
            "needs_background": "light"
          }
        }
      ]
    },
    {
      "cell_type": "markdown",
      "source": [
        "Nominal Categories"
      ],
      "metadata": {
        "id": "x-SoAw-OEEAv"
      }
    },
    {
      "cell_type": "code",
      "source": [
        "(spotify['Artist'].value_counts().head(10)/len(spotify)).plot.bar()"
      ],
      "metadata": {
        "colab": {
          "base_uri": "https://localhost:8080/",
          "height": 337
        },
        "id": "eJxdKs26D1JM",
        "outputId": "0f9f4201-398c-4448-cd9f-1f8d5cac9680"
      },
      "execution_count": 82,
      "outputs": [
        {
          "output_type": "execute_result",
          "data": {
            "text/plain": [
              "<matplotlib.axes._subplots.AxesSubplot at 0x7fbe11342a50>"
            ]
          },
          "metadata": {},
          "execution_count": 82
        },
        {
          "output_type": "display_data",
          "data": {
            "text/plain": [
              "<Figure size 432x288 with 1 Axes>"
            ],
            "image/png": "[encoded data removed]"
          },
          "metadata": {
            "needs_background": "light"
          }
        }
      ]
    },
    {
      "cell_type": "code",
      "source": [
        "(spotify['Genre'].value_counts().head(10)/len(spotify)).plot.bar()"
      ],
      "metadata": {
        "colab": {
          "base_uri": "https://localhost:8080/",
          "height": 495
        },
        "id": "slPyugtIEdHO",
        "outputId": "2e935b88-8516-4f7a-8d06-8ade45265abc"
      },
      "execution_count": 83,
      "outputs": [
        {
          "output_type": "execute_result",
          "data": {
            "text/plain": [
              "<matplotlib.axes._subplots.AxesSubplot at 0x7fbe11464990>"
            ]
          },
          "metadata": {},
          "execution_count": 83
        },
        {
          "output_type": "display_data",
          "data": {
            "text/plain": [
              "<Figure size 432x288 with 1 Axes>"
            ],
            "image/png": "[encoded data removed]"
          },
          "metadata": {
            "needs_background": "light"
          }
        }
      ]
    },
    {
      "cell_type": "code",
      "source": [
        "(spotify['Release Date'].value_counts().head(10)/len(spotify)).plot.bar()"
      ],
      "metadata": {
        "colab": {
          "base_uri": "https://localhost:8080/",
          "height": 330
        },
        "id": "H2Zq0i-oEhAF",
        "outputId": "44bf4d77-e649-4954-a841-f1ead5e13240"
      },
      "execution_count": 84,
      "outputs": [
        {
          "output_type": "execute_result",
          "data": {
            "text/plain": [
              "<matplotlib.axes._subplots.AxesSubplot at 0x7fbe11651350>"
            ]
          },
          "metadata": {},
          "execution_count": 84
        },
        {
          "output_type": "display_data",
          "data": {
            "text/plain": [
              "<Figure size 432x288 with 1 Axes>"
            ],
            "image/png": "[encoded data removed]"
          },
          "metadata": {
            "needs_background": "light"
          }
        }
      ]
    },
    {
      "cell_type": "code",
      "source": [
        "(spotify['Popularity'].value_counts().head(10)/len(spotify)).plot.bar()"
      ],
      "metadata": {
        "colab": {
          "base_uri": "https://localhost:8080/",
          "height": 285
        },
        "id": "F-CuC7_zE3EA",
        "outputId": "3f873495-88ed-44db-b599-aa3839e19049"
      },
      "execution_count": 85,
      "outputs": [
        {
          "output_type": "execute_result",
          "data": {
            "text/plain": [
              "<matplotlib.axes._subplots.AxesSubplot at 0x7fbe14cae1d0>"
            ]
          },
          "metadata": {},
          "execution_count": 85
        },
        {
          "output_type": "display_data",
          "data": {
            "text/plain": [
              "<Figure size 432x288 with 1 Axes>"
            ],
            "image/png": "[encoded data removed]"
          },
          "metadata": {
            "needs_background": "light"
          }
        }
      ]
    }
  ]
}